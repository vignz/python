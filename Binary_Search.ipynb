{
  "nbformat": 4,
  "nbformat_minor": 0,
  "metadata": {
    "colab": {
      "name": "Binary_Search.ipynb",
      "provenance": [],
      "collapsed_sections": [],
      "include_colab_link": true
    },
    "kernelspec": {
      "name": "python3",
      "display_name": "Python 3"
    }
  },
  "cells": [
    {
      "cell_type": "markdown",
      "metadata": {
        "id": "view-in-github",
        "colab_type": "text"
      },
      "source": [
        "<a href=\"https://colab.research.google.com/github/vignz/python/blob/master/Binary_Search.ipynb\" target=\"_parent\"><img src=\"https://colab.research.google.com/assets/colab-badge.svg\" alt=\"Open In Colab\"/></a>"
      ]
    },
    {
      "cell_type": "code",
      "metadata": {
        "id": "E7cwnghKRlYA",
        "colab_type": "code",
        "colab": {}
      },
      "source": [
        "# Returns index of x in arr if present, else -1 \n",
        "def binarySearch (arr, l, r, x): \n",
        "    # Check base case \n",
        "    if r >= l: \n",
        "        print(\"L is {l} and R is {r}\".format(l=l,r=r))\n",
        "        mid = l + (r - l)//2\n",
        "        print(\"Mid is {mid}\".format(mid=mid))\n",
        "        # If element is present at the middle itself \n",
        "        if arr[mid] == x: \n",
        "            return mid \n",
        "        # If element is smaller than mid, then it can only \n",
        "        # be present in left subarray \n",
        "        elif arr[mid] > x: \n",
        "            return binarySearch(arr, l, mid-1, x) \n",
        "        # Else the element can only be present in right subarray \n",
        "        else: \n",
        "            return binarySearch(arr, mid+1, r, x)\n",
        "    else: \n",
        "        # Element is not present in the array \n",
        "        return -1"
      ],
      "execution_count": 0,
      "outputs": []
    },
    {
      "cell_type": "code",
      "metadata": {
        "id": "ErIs10f_pJOY",
        "colab_type": "code",
        "outputId": "5cf24e0f-3b54-45af-f585-7afdf242779e",
        "colab": {
          "base_uri": "https://localhost:8080/",
          "height": 141
        }
      },
      "source": [
        "# Test array \n",
        "arr = [ 2, 3, 4, 10, 40 ] \n",
        "x = 40\n",
        "  \n",
        "# Function call \n",
        "result = binarySearch(arr, 0, len(arr)-1, x) \n",
        "  \n",
        "if result != -1: \n",
        "    print(\"Element is present at index {result}\".format(result=result))\n",
        "else: \n",
        "    print(\"Element is not present in array\")"
      ],
      "execution_count": 5,
      "outputs": [
        {
          "output_type": "stream",
          "text": [
            "L is 0 and R is 4\n",
            "Mid is 2\n",
            "L is 3 and R is 4\n",
            "Mid is 3\n",
            "L is 4 and R is 4\n",
            "Mid is 4\n",
            "Element is present at index 4\n"
          ],
          "name": "stdout"
        }
      ]
    },
    {
      "cell_type": "code",
      "metadata": {
        "id": "awfO8MwgS3EL",
        "colab_type": "code",
        "colab": {
          "base_uri": "https://localhost:8080/",
          "height": 34
        },
        "outputId": "f88be265-d19b-4a58-941d-08518ab726e2"
      },
      "source": [
        "1//2"
      ],
      "execution_count": 6,
      "outputs": [
        {
          "output_type": "execute_result",
          "data": {
            "text/plain": [
              "0"
            ]
          },
          "metadata": {
            "tags": []
          },
          "execution_count": 6
        }
      ]
    },
    {
      "cell_type": "code",
      "metadata": {
        "id": "I7RYV5sqsNaR",
        "colab_type": "code",
        "colab": {}
      },
      "source": [
        ""
      ],
      "execution_count": 0,
      "outputs": []
    }
  ]
}